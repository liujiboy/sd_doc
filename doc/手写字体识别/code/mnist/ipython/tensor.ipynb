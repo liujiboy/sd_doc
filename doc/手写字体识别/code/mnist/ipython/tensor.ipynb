{
 "cells": [
  {
   "cell_type": "raw",
   "metadata": {},
   "source": []
  },
  {
   "cell_type": "code",
   "execution_count": 2,
   "metadata": {},
   "outputs": [
    {
     "name": "stdout",
     "output_type": "stream",
     "text": [
      "A=\n",
      " [[ 0  1  2  3]\n",
      " [ 4  5  6  7]\n",
      " [ 8  9 10 11]]\n",
      "B=\n",
      " [[ 0  1  2]\n",
      " [ 3  4  5]\n",
      " [ 6  7  8]\n",
      " [ 9 10 11]]\n"
     ]
    }
   ],
   "source": [
    "import numpy as np\n",
    "A=np.arange(3*4)\n",
    "B=np.arange(4*3)\n",
    "A=A.reshape(3,4) #3x4\n",
    "B=B.reshape(4,3) #4x3\n",
    "print(\"A=\\n\",A)\n",
    "print(\"B=\\n\",B)"
   ]
  },
  {
   "cell_type": "markdown",
   "metadata": {},
   "source": [
    "求$C_{ij}=\\sum_{k}^4A_{ik}B_{kj}$"
   ]
  },
  {
   "cell_type": "code",
   "execution_count": 3,
   "metadata": {},
   "outputs": [
    {
     "name": "stdout",
     "output_type": "stream",
     "text": [
      "C=\n",
      " [[ 42.  48.  54.]\n",
      " [114. 136. 158.]\n",
      " [186. 224. 262.]]\n"
     ]
    }
   ],
   "source": [
    "def C_ij(A,B,i,j):\n",
    "    c=0\n",
    "    for k in range(4):\n",
    "        c+=A[i,k]*B[k,j]\n",
    "    return c\n",
    "C=np.zeros((3,3))\n",
    "for i in range(3):\n",
    "    for j in range(3):\n",
    "        C[i,j]=C_ij(A,B,i,j)\n",
    "print(\"C=\\n\",C) "
   ]
  },
  {
   "cell_type": "code",
   "execution_count": 4,
   "metadata": {},
   "outputs": [
    {
     "name": "stdout",
     "output_type": "stream",
     "text": [
      "C=\n",
      " [[ 42  48  54]\n",
      " [114 136 158]\n",
      " [186 224 262]]\n"
     ]
    }
   ],
   "source": [
    "C=np.dot(A,B)\n",
    "print(\"C=\\n\",C)"
   ]
  },
  {
   "cell_type": "markdown",
   "metadata": {},
   "source": [
    "求$C_{ij}=A_{ik}B_{kj}$"
   ]
  },
  {
   "cell_type": "code",
   "execution_count": 5,
   "metadata": {},
   "outputs": [
    {
     "name": "stdout",
     "output_type": "stream",
     "text": [
      "C= [[ 42  48  54]\n",
      " [114 136 158]\n",
      " [186 224 262]]\n"
     ]
    }
   ],
   "source": [
    "C=np.einsum('ik,kj->ij',A,B)\n",
    "print(\"C=\",C)"
   ]
  },
  {
   "cell_type": "markdown",
   "metadata": {},
   "source": [
    "求$C_{ij}=A_{ik}B_{kj}$"
   ]
  },
  {
   "cell_type": "code",
   "execution_count": 20,
   "metadata": {},
   "outputs": [
    {
     "name": "stdout",
     "output_type": "stream",
     "text": [
      "C= [[ 42  48  54]\n",
      " [114 136 158]\n",
      " [186 224 262]]\n"
     ]
    }
   ],
   "source": [
    "C=np.tensordot(A,B,axes=[(1,),(0,)])# ik kj\n",
    "print(\"C=\",C)"
   ]
  },
  {
   "cell_type": "markdown",
   "metadata": {},
   "source": [
    "求$C_{ij}=\\sum_{k}^3A_{ki}B_{jk}$"
   ]
  },
  {
   "cell_type": "code",
   "execution_count": 24,
   "metadata": {},
   "outputs": [
    {
     "name": "stdout",
     "output_type": "stream",
     "text": [
      "C=\n",
      " [[ 20.  56.  92. 128.]\n",
      " [ 23.  68. 113. 158.]\n",
      " [ 26.  80. 134. 188.]\n",
      " [ 29.  92. 155. 218.]]\n"
     ]
    }
   ],
   "source": [
    "def C_ij(A,B,i,j):\n",
    "    c=0\n",
    "    for k in range(3):\n",
    "        c+=A[k,i]*B[j,k]\n",
    "    return c\n",
    "C=np.zeros((4,4))\n",
    "for i in range(4):\n",
    "    for j in range(4):\n",
    "        C[i,j]=C_ij(A,B,i,j)\n",
    "print(\"C=\\n\",C) "
   ]
  },
  {
   "cell_type": "code",
   "execution_count": 23,
   "metadata": {},
   "outputs": [
    {
     "name": "stdout",
     "output_type": "stream",
     "text": [
      "C=\n",
      " [[ 20  23  26  29]\n",
      " [ 56  68  80  92]\n",
      " [ 92 113 134 155]\n",
      " [128 158 188 218]]\n"
     ]
    }
   ],
   "source": [
    "C=np.dot(B,A)\n",
    "print(\"C=\\n\",C)"
   ]
  },
  {
   "cell_type": "code",
   "execution_count": 25,
   "metadata": {},
   "outputs": [
    {
     "name": "stdout",
     "output_type": "stream",
     "text": [
      "C= [[ 20  56  92 128]\n",
      " [ 23  68 113 158]\n",
      " [ 26  80 134 188]\n",
      " [ 29  92 155 218]]\n"
     ]
    }
   ],
   "source": [
    "C=np.einsum('ki,jk->ij',A,B)\n",
    "print(\"C=\",C)"
   ]
  },
  {
   "cell_type": "code",
   "execution_count": 26,
   "metadata": {},
   "outputs": [
    {
     "name": "stdout",
     "output_type": "stream",
     "text": [
      "C= [[ 20  56  92 128]\n",
      " [ 23  68 113 158]\n",
      " [ 26  80 134 188]\n",
      " [ 29  92 155 218]]\n"
     ]
    }
   ],
   "source": [
    "C=np.tensordot(A,B,axes=[(0,),(1,)])# ki jk\n",
    "print(\"C=\",C)"
   ]
  },
  {
   "cell_type": "code",
   "execution_count": 1,
   "metadata": {},
   "outputs": [
    {
     "name": "stdout",
     "output_type": "stream",
     "text": [
      "A=\n",
      " [[[ 0  1  2]\n",
      "  [ 3  4  5]\n",
      "  [ 6  7  8]\n",
      "  [ 9 10 11]]\n",
      "\n",
      " [[12 13 14]\n",
      "  [15 16 17]\n",
      "  [18 19 20]\n",
      "  [21 22 23]]\n",
      "\n",
      " [[24 25 26]\n",
      "  [27 28 29]\n",
      "  [30 31 32]\n",
      "  [33 34 35]]\n",
      "\n",
      " [[36 37 38]\n",
      "  [39 40 41]\n",
      "  [42 43 44]\n",
      "  [45 46 47]]]\n",
      "B=\n",
      " [[[ 0  1]\n",
      "  [ 2  3]\n",
      "  [ 4  5]]\n",
      "\n",
      " [[ 6  7]\n",
      "  [ 8  9]\n",
      "  [10 11]]\n",
      "\n",
      " [[12 13]\n",
      "  [14 15]\n",
      "  [16 17]]]\n"
     ]
    }
   ],
   "source": [
    "import numpy as np\n",
    "A=np.arange(4*4*3)\n",
    "B=np.arange(3*3*2)\n",
    "A=A.reshape(4,4,3) #4x4x3\n",
    "B=B.reshape(3,3,2) #3x3x2\n",
    "print(\"A=\\n\",A)\n",
    "print(\"B=\\n\",B)"
   ]
  },
  {
   "cell_type": "markdown",
   "metadata": {},
   "source": [
    "求$C_{jxn}=\\sum_{i}^4\\sum_{k}^3\\sum_{m}^3A_{ijk}B_{kmn}A_{ixm}$"
   ]
  },
  {
   "cell_type": "code",
   "execution_count": 2,
   "metadata": {},
   "outputs": [
    {
     "name": "stdout",
     "output_type": "stream",
     "text": [
      "C= [[[159456. 178932.]\n",
      "  [176304. 197832.]\n",
      "  [193152. 216732.]\n",
      "  [210000. 235632.]]\n",
      "\n",
      " [[176016. 197544.]\n",
      "  [195456. 219360.]\n",
      "  [214896. 241176.]\n",
      "  [234336. 262992.]]\n",
      "\n",
      " [[192576. 216156.]\n",
      "  [214608. 240888.]\n",
      "  [236640. 265620.]\n",
      "  [258672. 290352.]]\n",
      "\n",
      " [[209136. 234768.]\n",
      "  [233760. 262416.]\n",
      "  [258384. 290064.]\n",
      "  [283008. 317712.]]]\n"
     ]
    }
   ],
   "source": [
    "def C_jxn(A,B,j,x,n):\n",
    "    c=0\n",
    "    for i in range(4):\n",
    "        for k in range(3):\n",
    "            for m in range(3):\n",
    "                c+=A[i,j,k]*B[k,m,n]*A[i,x,m]\n",
    "    return c\n",
    "C=np.zeros((4,4,2))\n",
    "for j in range(4):\n",
    "    for x in range(4):\n",
    "        for n in range(2):\n",
    "            C[j,x,n]=C_jxn(A,B,j,x,n)\n",
    "print(\"C=\",C)   "
   ]
  },
  {
   "cell_type": "markdown",
   "metadata": {},
   "source": [
    "求$C_{jxn}=A_{ijk}B_{kmn}A_{ixm}$"
   ]
  },
  {
   "cell_type": "code",
   "execution_count": 3,
   "metadata": {},
   "outputs": [
    {
     "name": "stdout",
     "output_type": "stream",
     "text": [
      "C= [[[159456 178932]\n",
      "  [176304 197832]\n",
      "  [193152 216732]\n",
      "  [210000 235632]]\n",
      "\n",
      " [[176016 197544]\n",
      "  [195456 219360]\n",
      "  [214896 241176]\n",
      "  [234336 262992]]\n",
      "\n",
      " [[192576 216156]\n",
      "  [214608 240888]\n",
      "  [236640 265620]\n",
      "  [258672 290352]]\n",
      "\n",
      " [[209136 234768]\n",
      "  [233760 262416]\n",
      "  [258384 290064]\n",
      "  [283008 317712]]]\n",
      "(4, 4, 2)\n"
     ]
    }
   ],
   "source": [
    "C=np.einsum('ijk,kmn,ixm->jxn',A,B,A)\n",
    "print(\"C=\",C) \n",
    "print(C.shape)"
   ]
  },
  {
   "cell_type": "code",
   "execution_count": 4,
   "metadata": {},
   "outputs": [
    {
     "name": "stdout",
     "output_type": "stream",
     "text": [
      "C= [[[159456 178932]\n",
      "  [176304 197832]\n",
      "  [193152 216732]\n",
      "  [210000 235632]]\n",
      "\n",
      " [[176016 197544]\n",
      "  [195456 219360]\n",
      "  [214896 241176]\n",
      "  [234336 262992]]\n",
      "\n",
      " [[192576 216156]\n",
      "  [214608 240888]\n",
      "  [236640 265620]\n",
      "  [258672 290352]]\n",
      "\n",
      " [[209136 234768]\n",
      "  [233760 262416]\n",
      "  [258384 290064]\n",
      "  [283008 317712]]]\n",
      "(4, 4, 2)\n"
     ]
    }
   ],
   "source": [
    "Z=np.tensordot(A,B,axes=[(2,),(0,)])\n",
    "# ijmn ixm\n",
    "X=np.tensordot(Z,A,axes=[(0,2),(0,2)])\n",
    "# jnx\n",
    "#C=np.transpose(X,axes=[0,2,1])\n",
    "print(\"C=\",C)\n",
    "print(C.shape)"
   ]
  },
  {
   "cell_type": "code",
   "execution_count": 28,
   "metadata": {},
   "outputs": [
    {
     "name": "stdout",
     "output_type": "stream",
     "text": [
      "A=\n",
      " [['a11' 'a12']\n",
      " ['a21' 'a22']\n",
      " ['a31' 'a32']]\n",
      "X=\n",
      " [['x11' 'x12']\n",
      " ['x21' 'x22']]\n",
      "F=\n",
      " [['a11x11+a12x21' 'a11x12+a12x22']\n",
      " ['a21x11+a22x21' 'a21x12+a22x22']\n",
      " ['a31x11+a32x21' 'a31x12+a32x22']]\n",
      "M[1,1,1,1]=F11/x11=(a11x11+a12x21)/x11=a11\n",
      "M[1,1,1,2]=F11/x12=(a11x11+a12x21)/x12=0\n",
      "M[1,1,2,1]=F11/x21=(a11x11+a12x21)/x21=a12\n",
      "M[1,1,2,2]=F11/x22=(a11x11+a12x21)/x22=0\n",
      "M[1,2,1,1]=F12/x11=(a11x12+a12x22)/x11=0\n",
      "M[1,2,1,2]=F12/x12=(a11x12+a12x22)/x12=a11\n",
      "M[1,2,2,1]=F12/x21=(a11x12+a12x22)/x21=0\n",
      "M[1,2,2,2]=F12/x22=(a11x12+a12x22)/x22=a12\n",
      "M[2,1,1,1]=F21/x11=(a21x11+a22x21)/x11=a21\n",
      "M[2,1,1,2]=F21/x12=(a21x11+a22x21)/x12=0\n",
      "M[2,1,2,1]=F21/x21=(a21x11+a22x21)/x21=a22\n",
      "M[2,1,2,2]=F21/x22=(a21x11+a22x21)/x22=0\n",
      "M[2,2,1,1]=F22/x11=(a21x12+a22x22)/x11=0\n",
      "M[2,2,1,2]=F22/x12=(a21x12+a22x22)/x12=a21\n",
      "M[2,2,2,1]=F22/x21=(a21x12+a22x22)/x21=0\n",
      "M[2,2,2,2]=F22/x22=(a21x12+a22x22)/x22=a22\n",
      "M[3,1,1,1]=F31/x11=(a31x11+a32x21)/x11=a31\n",
      "M[3,1,1,2]=F31/x12=(a31x11+a32x21)/x12=0\n",
      "M[3,1,2,1]=F31/x21=(a31x11+a32x21)/x21=a32\n",
      "M[3,1,2,2]=F31/x22=(a31x11+a32x21)/x22=0\n",
      "M[3,2,1,1]=F32/x11=(a31x12+a32x22)/x11=0\n",
      "M[3,2,1,2]=F32/x12=(a31x12+a32x22)/x12=a31\n",
      "M[3,2,2,1]=F32/x21=(a31x12+a32x22)/x21=0\n",
      "M[3,2,2,2]=F32/x22=(a31x12+a32x22)/x22=a32\n"
     ]
    }
   ],
   "source": [
    "import numpy as np\n",
    "A=np.array([[\"a11\",\"a12\"],[\"a21\",\"a22\"],[\"a31\",\"a32\"]])\n",
    "X=np.array([[\"x11\",\"x12\"],[\"x21\",\"x22\"]])\n",
    "F=np.array([[\"a11x11+a12x21\",\"a11x12+a12x22\"],[\"a21x11+a22x21\",\"a21x12+a22x22\"],[\"a31x11+a32x21\",\"a31x12+a32x22\"]])\n",
    "print(\"A=\\n\",A)\n",
    "print(\"X=\\n\",X)\n",
    "print(\"F=\\n\",F)\n",
    "for i in range(3):\n",
    "    for j in range(2):\n",
    "        for k in range(2):\n",
    "            for s in range(2):\n",
    "                if j==s:\n",
    "                    print(\"M[%d,%d,%d,%d]=F%d%d/x%d%d=(%s)/%s=%s\"%(i+1,j+1,k+1,s+1,i+1,j+1,k+1,s+1,F[i,j],X[k,s],\"a%d%d\"%(i+1,k+1)))\n",
    "                else:\n",
    "                    print(\"M[%d,%d,%d,%d]=F%d%d/x%d%d=(%s)/%s=0\"%(i+1,j+1,k+1,s+1,i+1,j+1,k+1,s+1,F[i,j],X[k,s]))"
   ]
  },
  {
   "cell_type": "code",
   "execution_count": null,
   "metadata": {},
   "outputs": [],
   "source": []
  }
 ],
 "metadata": {
  "kernelspec": {
   "display_name": "Python 3",
   "language": "python",
   "name": "python3"
  },
  "language_info": {
   "codemirror_mode": {
    "name": "ipython",
    "version": 3
   },
   "file_extension": ".py",
   "mimetype": "text/x-python",
   "name": "python",
   "nbconvert_exporter": "python",
   "pygments_lexer": "ipython3",
   "version": "3.8.3"
  }
 },
 "nbformat": 4,
 "nbformat_minor": 2
}
