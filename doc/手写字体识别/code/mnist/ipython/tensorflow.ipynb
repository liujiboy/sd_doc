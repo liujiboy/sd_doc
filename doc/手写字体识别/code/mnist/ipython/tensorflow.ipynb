{
 "cells": [
  {
   "cell_type": "code",
   "execution_count": 9,
   "metadata": {},
   "outputs": [
    {
     "name": "stdout",
     "output_type": "stream",
     "text": [
      "42.0\n",
      "24.0\n",
      "10.0\n"
     ]
    }
   ],
   "source": [
    "import tensorflow as tf\n",
    "x=tf.Variable(3,name=\"x\",dtype=tf.float32)\n",
    "y=tf.Variable(4,name=\"y\",dtype=tf.float32)\n",
    "f=x*x*y+y+2\n",
    "gradients=tf.gradients(f,[x,y])\n",
    "init = tf.global_variables_initializer()\n",
    "with tf.Session() as sess:\n",
    "    sess.run(init)\n",
    "    print(f.eval())\n",
    "    print(gradients[0].eval()) #df/dx\n",
    "    print(gradients[1].eval()) #df/dy"
   ]
  },
  {
   "cell_type": "code",
   "execution_count": 2,
   "metadata": {},
   "outputs": [
    {
     "name": "stdout",
     "output_type": "stream",
     "text": [
      "-7.1526303\n",
      "-2.9802628\n"
     ]
    }
   ],
   "source": [
    "import tensorflow as tf\n",
    "x=tf.Variable(3,name=\"x\",dtype=tf.float32)\n",
    "y=tf.Variable(4,name=\"y\",dtype=tf.float32)\n",
    "f=x*x*y+y+2\n",
    "g=tf.cos(f)+tf.sin(f)\n",
    "h=1/g\n",
    "gradients=tf.gradients(h,[x,y])\n",
    "init = tf.global_variables_initializer()\n",
    "with tf.Session() as sess:\n",
    "    sess.run(init)\n",
    "    print(gradients[0].eval()) \n",
    "    print(gradients[1].eval())"
   ]
  },
  {
   "cell_type": "code",
   "execution_count": 10,
   "metadata": {},
   "outputs": [
    {
     "name": "stdout",
     "output_type": "stream",
     "text": [
      "\\sum_{y=0}^{a} \\left(x^{2} y + \\sin{\\left (y \\right )} + 2\\right)\n",
      "Sum(x**2*y + sin(y) + 2, (y, 0, a))\n"
     ]
    }
   ],
   "source": [
    "import sympy\n",
    "x=sympy.Symbol(\"x\")\n",
    "y=sympy.Symbol(\"y\")\n",
    "a=sympy.Symbol(\"a\")\n",
    "f=x*x*y+sympy.sin(y)+2\n",
    "sum_f=sympy.summation(f,(y,0,a))\n",
    "print(sympy.latex(sum_f))\n",
    "print(sum_f)"
   ]
  },
  {
   "cell_type": "markdown",
   "metadata": {},
   "source": [
    "$$\\sum_{y=0}^{a} \\left(x^{2} y + \\sin{\\left (y \\right )} + 2\\right)$$"
   ]
  },
  {
   "cell_type": "code",
   "execution_count": 4,
   "metadata": {},
   "outputs": [
    {
     "name": "stdout",
     "output_type": "stream",
     "text": [
      "Help on function product in module sympy.concrete.products:\n",
      "\n",
      "product(*args, **kwargs)\n",
      "    Compute the product.\n",
      "    \n",
      "    The notation for symbols is similar to the notation used in Sum or\n",
      "    Integral. product(f, (i, a, b)) computes the product of f with\n",
      "    respect to i from a to b, i.e.,\n",
      "    \n",
      "    ::\n",
      "    \n",
      "                                     b\n",
      "                                   _____\n",
      "        product(f(n), (i, a, b)) = |   | f(n)\n",
      "                                   |   |\n",
      "                                   i = a\n",
      "    \n",
      "    If it cannot compute the product, it returns an unevaluated Product object.\n",
      "    Repeated products can be computed by introducing additional symbols tuples::\n",
      "    \n",
      "    >>> from sympy import product, symbols\n",
      "    >>> i, n, m, k = symbols('i n m k', integer=True)\n",
      "    \n",
      "    >>> product(i, (i, 1, k))\n",
      "    factorial(k)\n",
      "    >>> product(m, (i, 1, k))\n",
      "    m**k\n",
      "    >>> product(i, (i, 1, k), (k, 1, n))\n",
      "    Product(factorial(k), (k, 1, n))\n",
      "\n"
     ]
    }
   ],
   "source": [
    "help(sympy.product)"
   ]
  },
  {
   "cell_type": "code",
   "execution_count": 5,
   "metadata": {},
   "outputs": [
    {
     "name": "stdout",
     "output_type": "stream",
     "text": [
      "2*x*y\n",
      "x**2 + 1\n",
      "(2*x*y*sin(x**2*y + y + 2) - 2*x*y*cos(x**2*y + y + 2))/(sin(x**2*y + y + 2) + cos(x**2*y + y + 2))**2\n",
      "((x**2 + 1)*sin(x**2*y + y + 2) - (x**2 + 1)*cos(x**2*y + y + 2))/(sin(x**2*y + y + 2) + cos(x**2*y + y + 2))**2\n"
     ]
    }
   ],
   "source": [
    "import sympy\n",
    "x=sympy.Symbol(\"x\")\n",
    "y=sympy.Symbol(\"y\")\n",
    "f=x*x*y+y+2\n",
    "g=sympy.cos(f)+sympy.sin(f)\n",
    "h=1/g\n",
    "print(sympy.diff(f,x))\n",
    "print(sympy.diff(f,y))\n",
    "print(sympy.diff(h,x))\n",
    "print(sympy.diff(h,y))"
   ]
  },
  {
   "cell_type": "code",
   "execution_count": 6,
   "metadata": {},
   "outputs": [
    {
     "name": "stdout",
     "output_type": "stream",
     "text": [
      "\\frac{2 x y \\sin{\\left (x^{2} y + y + 2 \\right )} - 2 x y \\cos{\\left (x^{2} y + y + 2 \\right )}}{\\left(\\sin{\\left (x^{2} y + y + 2 \\right )} + \\cos{\\left (x^{2} y + y + 2 \\right )}\\right)^{2}}\n"
     ]
    }
   ],
   "source": [
    "print(sympy.latex(sympy.diff(h,x)))"
   ]
  },
  {
   "cell_type": "markdown",
   "metadata": {},
   "source": [
    "$\\frac{2 x y \\sin{\\left (x^{2} y + y + 2 \\right )} - 2 x y \\cos{\\left (x^{2} y + y + 2 \\right )}}{\\left(\\sin{\\left (x^{2} y + y + 2 \\right )} + \\cos{\\left (x^{2} y + y + 2 \\right )}\\right)^{2}}$"
   ]
  },
  {
   "cell_type": "code",
   "execution_count": 7,
   "metadata": {
    "scrolled": true
   },
   "outputs": [
    {
     "name": "stdout",
     "output_type": "stream",
     "text": [
      "\\sum_{x=a}^{b} \\frac{1}{x^{2} + y}\n"
     ]
    }
   ],
   "source": [
    "a=sympy.Symbol(\"a\")\n",
    "b=sympy.Symbol(\"b\")\n",
    "f=sympy.log(x**2+y)\n",
    "g=sympy.summation(f,(x,a,b))\n",
    "print(sympy.latex(sympy.diff(g,y)))"
   ]
  },
  {
   "cell_type": "markdown",
   "metadata": {},
   "source": [
    "$\\sum_{x=a}^{b} \\frac{1}{x^{2} + y}$"
   ]
  },
  {
   "cell_type": "code",
   "execution_count": 8,
   "metadata": {},
   "outputs": [
    {
     "name": "stdout",
     "output_type": "stream",
     "text": [
      "Help on function summation in module sympy.concrete.summations:\n",
      "\n",
      "summation(f, *symbols, **kwargs)\n",
      "    Compute the summation of f with respect to symbols.\n",
      "    \n",
      "    The notation for symbols is similar to the notation used in Integral.\n",
      "    summation(f, (i, a, b)) computes the sum of f with respect to i from a to b,\n",
      "    i.e.,\n",
      "    \n",
      "    ::\n",
      "    \n",
      "                                    b\n",
      "                                  ____\n",
      "                                  \\   `\n",
      "        summation(f, (i, a, b)) =  )    f\n",
      "                                  /___,\n",
      "                                  i = a\n",
      "    \n",
      "    If it cannot compute the sum, it returns an unevaluated Sum object.\n",
      "    Repeated sums can be computed by introducing additional symbols tuples::\n",
      "    \n",
      "    >>> from sympy import summation, oo, symbols, log\n",
      "    >>> i, n, m = symbols('i n m', integer=True)\n",
      "    \n",
      "    >>> summation(2*i - 1, (i, 1, n))\n",
      "    n**2\n",
      "    >>> summation(1/2**i, (i, 0, oo))\n",
      "    2\n",
      "    >>> summation(1/log(n)**n, (n, 2, oo))\n",
      "    Sum(log(n)**(-n), (n, 2, oo))\n",
      "    >>> summation(i, (i, 0, n), (n, 0, m))\n",
      "    m**3/6 + m**2/2 + m/3\n",
      "    \n",
      "    >>> from sympy.abc import x\n",
      "    >>> from sympy import factorial\n",
      "    >>> summation(x**n/factorial(n), (n, 0, oo))\n",
      "    exp(x)\n",
      "    \n",
      "    See Also\n",
      "    ========\n",
      "    \n",
      "    Sum\n",
      "    Product, product\n",
      "\n"
     ]
    }
   ],
   "source": [
    "help(sympy.summation)"
   ]
  },
  {
   "cell_type": "code",
   "execution_count": null,
   "metadata": {},
   "outputs": [],
   "source": []
  }
 ],
 "metadata": {
  "kernelspec": {
   "display_name": "Python 3",
   "language": "python",
   "name": "python3"
  },
  "language_info": {
   "codemirror_mode": {
    "name": "ipython",
    "version": 3
   },
   "file_extension": ".py",
   "mimetype": "text/x-python",
   "name": "python",
   "nbconvert_exporter": "python",
   "pygments_lexer": "ipython3",
   "version": "3.8.3"
  }
 },
 "nbformat": 4,
 "nbformat_minor": 2
}
